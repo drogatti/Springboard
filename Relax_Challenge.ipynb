{
 "cells": [
  {
   "cell_type": "code",
   "execution_count": 1,
   "id": "730ee060-465b-4393-98ae-c47441cc01d7",
   "metadata": {},
   "outputs": [],
   "source": [
    "#import modules\n",
    "import pandas as pd\n",
    "import matplotlib.pyplot as plt\n",
    "from sklearn.model_selection import train_test_split\n",
    "from sklearn.linear_model import LogisticRegression\n",
    "from sklearn.metrics import accuracy_score, confusion_matrix"
   ]
  },
  {
   "cell_type": "markdown",
   "id": "47f50015-9263-46e9-b8e5-d36cb8bff484",
   "metadata": {},
   "source": [
    "### Load Data"
   ]
  },
  {
   "cell_type": "code",
   "execution_count": 2,
   "id": "04962441-5d83-4f44-af79-3f2b85a4b77e",
   "metadata": {},
   "outputs": [
    {
     "name": "stdout",
     "output_type": "stream",
     "text": [
      "   object_id        creation_time               name  \\\n",
      "0          1  2014-04-22 03:53:30     Clausen August   \n",
      "1          2  2013-11-15 03:45:04      Poole Matthew   \n",
      "2          3  2013-03-19 23:14:52  Bottrill Mitchell   \n",
      "3          4  2013-05-21 08:09:28    Clausen Nicklas   \n",
      "4          5  2013-01-17 10:14:20          Raw Grace   \n",
      "\n",
      "                        email creation_source  last_session_creation_time  \\\n",
      "0    AugustCClausen@yahoo.com    GUEST_INVITE                1.398139e+09   \n",
      "1      MatthewPoole@gustr.com      ORG_INVITE                1.396238e+09   \n",
      "2  MitchellBottrill@gustr.com      ORG_INVITE                1.363735e+09   \n",
      "3   NicklasSClausen@yahoo.com    GUEST_INVITE                1.369210e+09   \n",
      "4          GraceRaw@yahoo.com    GUEST_INVITE                1.358850e+09   \n",
      "\n",
      "   opted_in_to_mailing_list  enabled_for_marketing_drip  org_id  \\\n",
      "0                         1                           0      11   \n",
      "1                         0                           0       1   \n",
      "2                         0                           0      94   \n",
      "3                         0                           0       1   \n",
      "4                         0                           0     193   \n",
      "\n",
      "   invited_by_user_id  \n",
      "0             10803.0  \n",
      "1               316.0  \n",
      "2              1525.0  \n",
      "3              5151.0  \n",
      "4              5240.0  \n"
     ]
    }
   ],
   "source": [
    "users_df = pd.read_csv('Data/takehome_users.csv', encoding='ISO-8859-1')\n",
    "engagement_df = pd.read_csv('Data/takehome_user_engagement.csv', encoding='ISO-8859-1')\n",
    "\n",
    "#inspect first few rows\n",
    "print(users_df.head())"
   ]
  },
  {
   "cell_type": "code",
   "execution_count": 3,
   "id": "11c9441c-08be-4b53-80e6-e733cd08be05",
   "metadata": {},
   "outputs": [
    {
     "name": "stdout",
     "output_type": "stream",
     "text": [
      "            time_stamp  user_id  visited\n",
      "0  2014-04-22 03:53:30        1        1\n",
      "1  2013-11-15 03:45:04        2        1\n",
      "2  2013-11-29 03:45:04        2        1\n",
      "3  2013-12-09 03:45:04        2        1\n",
      "4  2013-12-25 03:45:04        2        1\n"
     ]
    }
   ],
   "source": [
    "print(engagement_df.head())"
   ]
  },
  {
   "cell_type": "markdown",
   "id": "df01a705-ce4f-4017-a2ba-4686ff815afa",
   "metadata": {},
   "source": [
    "### Data Cleaning"
   ]
  },
  {
   "cell_type": "code",
   "execution_count": 4,
   "id": "ece71b36-1b62-4f69-b12e-ac86fe41b449",
   "metadata": {},
   "outputs": [
    {
     "name": "stdout",
     "output_type": "stream",
     "text": [
      "object_id                        0\n",
      "creation_time                    0\n",
      "name                             0\n",
      "email                            0\n",
      "creation_source                  0\n",
      "last_session_creation_time    3177\n",
      "opted_in_to_mailing_list         0\n",
      "enabled_for_marketing_drip       0\n",
      "org_id                           0\n",
      "invited_by_user_id            5583\n",
      "dtype: int64\n"
     ]
    }
   ],
   "source": [
    "#convert time_stamp to datetime\n",
    "engagement_df['time_stamp'] = pd.to_datetime(engagement_df['time_stamp'])\n",
    "\n",
    "#sort engagement data by user_id and time_stamp for chronological order\n",
    "engagement_df.sort_values(['user_id', 'time_stamp'], inplace=True)\n",
    "\n",
    "#check for missing values\n",
    "print(users_df.isnull().sum())"
   ]
  },
  {
   "cell_type": "code",
   "execution_count": 5,
   "id": "ec93066d-7653-4891-8da6-b00e03505037",
   "metadata": {},
   "outputs": [
    {
     "name": "stdout",
     "output_type": "stream",
     "text": [
      "time_stamp    0\n",
      "user_id       0\n",
      "visited       0\n",
      "dtype: int64\n"
     ]
    }
   ],
   "source": [
    "print(engagement_df.isnull().sum())"
   ]
  },
  {
   "cell_type": "code",
   "execution_count": 6,
   "id": "a6cf8370-691a-4239-afc3-137d9f07b2d3",
   "metadata": {},
   "outputs": [
    {
     "name": "stderr",
     "output_type": "stream",
     "text": [
      "C:\\Users\\aless\\AppData\\Local\\Temp\\ipykernel_30088\\3018081280.py:2: FutureWarning: A value is trying to be set on a copy of a DataFrame or Series through chained assignment using an inplace method.\n",
      "The behavior will change in pandas 3.0. This inplace method will never work because the intermediate object on which we are setting values always behaves as a copy.\n",
      "\n",
      "For example, when doing 'df[col].method(value, inplace=True)', try using 'df.method({col: value}, inplace=True)' or df[col] = df[col].method(value) instead, to perform the operation inplace on the original object.\n",
      "\n",
      "\n",
      "  users_df['last_session_creation_time'].fillna(users_df['creation_time'], inplace=True)\n",
      "C:\\Users\\aless\\AppData\\Local\\Temp\\ipykernel_30088\\3018081280.py:2: FutureWarning: Setting an item of incompatible dtype is deprecated and will raise an error in a future version of pandas. Value '['2013-07-31 05:34:02' '2013-11-05 04:04:24' '2014-04-17 23:48:38' ...\n",
      " '2013-07-08 17:23:26' '2013-03-28 23:24:21' '2012-06-05 04:46:16']' has dtype incompatible with float64, please explicitly cast to a compatible dtype first.\n",
      "  users_df['last_session_creation_time'].fillna(users_df['creation_time'], inplace=True)\n"
     ]
    }
   ],
   "source": [
    "#fill missing last_session_creation_time with creation_time\n",
    "users_df['last_session_creation_time'].fillna(users_df['creation_time'], inplace=True)\n",
    "\n",
    "#create binary column to mark users who never logged in\n",
    "users_df['never_logged_in'] = users_df['last_session_creation_time'].isnull().astype(int)"
   ]
  },
  {
   "cell_type": "code",
   "execution_count": 7,
   "id": "4cf14dd7-43e8-4411-8c08-3fdfd470672e",
   "metadata": {},
   "outputs": [
    {
     "name": "stderr",
     "output_type": "stream",
     "text": [
      "C:\\Users\\aless\\AppData\\Local\\Temp\\ipykernel_30088\\2564945778.py:2: FutureWarning: A value is trying to be set on a copy of a DataFrame or Series through chained assignment using an inplace method.\n",
      "The behavior will change in pandas 3.0. This inplace method will never work because the intermediate object on which we are setting values always behaves as a copy.\n",
      "\n",
      "For example, when doing 'df[col].method(value, inplace=True)', try using 'df.method({col: value}, inplace=True)' or df[col] = df[col].method(value) instead, to perform the operation inplace on the original object.\n",
      "\n",
      "\n",
      "  users_df['invited_by_user_id'].fillna(0, inplace=True)\n"
     ]
    }
   ],
   "source": [
    "#fill missing invited_by_user_id with 0\n",
    "users_df['invited_by_user_id'].fillna(0, inplace=True)\n",
    "\n",
    "#create binary feature for if a user was invited\n",
    "users_df['was_invited'] = users_df['invited_by_user_id'].apply(lambda x: 0 if x == 0 else 1)"
   ]
  },
  {
   "cell_type": "markdown",
   "id": "7ed07024-d1be-49c5-9cfc-c27a71f54b0d",
   "metadata": {},
   "source": [
    "### Identify Adopted Users"
   ]
  },
  {
   "cell_type": "code",
   "execution_count": 8,
   "id": "01d41bec-92ae-494b-a556-03c9bd1f1b47",
   "metadata": {},
   "outputs": [
    {
     "name": "stdout",
     "output_type": "stream",
     "text": [
      "[    2    10    20 ... 11969 11975 11988]\n"
     ]
    },
    {
     "name": "stderr",
     "output_type": "stream",
     "text": [
      "C:\\Users\\aless\\AppData\\Local\\Temp\\ipykernel_30088\\1086259686.py:20: DeprecationWarning: DataFrameGroupBy.apply operated on the grouping columns. This behavior is deprecated, and in a future version of pandas the grouping columns will be excluded from the operation. Either pass `include_groups=False` to exclude the groupings or explicitly select the grouping columns after groupby to silence this warning.\n",
      "  adopted_users = login_days.groupby('user_id').apply(check_adopted_user).reset_index(name='adopted')\n"
     ]
    }
   ],
   "source": [
    "#extract date part from 'time_stamp' to ignore the time portion\n",
    "engagement_df['login_date'] = engagement_df['time_stamp'].dt.date\n",
    "\n",
    "#group by user_id and login_date to count distinct logins\n",
    "login_days = engagement_df.groupby(['user_id', 'login_date']).size().reset_index(name='login_count')\n",
    "\n",
    "#sort login_days df by user_id and login_date\n",
    "login_days.sort_values(['user_id', 'login_date'], inplace=True)\n",
    "\n",
    "#define function to check if user has 3 logins in 7-day window\n",
    "def check_adopted_user(df):\n",
    "    # Loop through each user's login dates and check if there are 3 logins within 7 days\n",
    "    for i in range(len(df) - 2):  # Ensure at least 3 entries are present\n",
    "        # Check if the difference between the first and third login is 7 days or less\n",
    "        if (df['login_date'].iloc[i + 2] - df['login_date'].iloc[i]).days <= 7:\n",
    "            return True\n",
    "    return False\n",
    "\n",
    "#apply function to each user\n",
    "adopted_users = login_days.groupby('user_id').apply(check_adopted_user).reset_index(name='adopted')\n",
    "\n",
    "#get list of adopted user_ids\n",
    "adopted_user_ids = adopted_users[adopted_users['adopted'] == True]['user_id'].unique()\n",
    "\n",
    "#display adopted user IDs\n",
    "print(adopted_user_ids)"
   ]
  },
  {
   "cell_type": "markdown",
   "id": "0ec4e733-2524-47c4-a44e-efa5c3292d0a",
   "metadata": {},
   "source": [
    "### Merge Data"
   ]
  },
  {
   "cell_type": "code",
   "execution_count": 9,
   "id": "08870db5-0a96-416d-9de7-d1a4bd444450",
   "metadata": {},
   "outputs": [
    {
     "name": "stdout",
     "output_type": "stream",
     "text": [
      "   object_id        creation_time               name  \\\n",
      "0          1  2014-04-22 03:53:30     Clausen August   \n",
      "1          2  2013-11-15 03:45:04      Poole Matthew   \n",
      "2          3  2013-03-19 23:14:52  Bottrill Mitchell   \n",
      "3          4  2013-05-21 08:09:28    Clausen Nicklas   \n",
      "4          5  2013-01-17 10:14:20          Raw Grace   \n",
      "\n",
      "                        email creation_source last_session_creation_time  \\\n",
      "0    AugustCClausen@yahoo.com    GUEST_INVITE               1398138810.0   \n",
      "1      MatthewPoole@gustr.com      ORG_INVITE               1396237504.0   \n",
      "2  MitchellBottrill@gustr.com      ORG_INVITE               1363734892.0   \n",
      "3   NicklasSClausen@yahoo.com    GUEST_INVITE               1369210168.0   \n",
      "4          GraceRaw@yahoo.com    GUEST_INVITE               1358849660.0   \n",
      "\n",
      "   opted_in_to_mailing_list  enabled_for_marketing_drip  org_id  \\\n",
      "0                         1                           0      11   \n",
      "1                         0                           0       1   \n",
      "2                         0                           0      94   \n",
      "3                         0                           0       1   \n",
      "4                         0                           0     193   \n",
      "\n",
      "   invited_by_user_id  never_logged_in  was_invited  adopted  \n",
      "0             10803.0                0            1    False  \n",
      "1               316.0                0            1     True  \n",
      "2              1525.0                0            1    False  \n",
      "3              5151.0                0            1    False  \n",
      "4              5240.0                0            1    False  \n"
     ]
    }
   ],
   "source": [
    "#add new column in users_df\n",
    "users_df['adopted'] = users_df['object_id'].isin(adopted_user_ids)\n",
    "\n",
    "#display first few rows\n",
    "print(users_df.head())"
   ]
  },
  {
   "cell_type": "code",
   "execution_count": 10,
   "id": "984b698b-7a4c-4c70-a051-141a03a0c159",
   "metadata": {},
   "outputs": [
    {
     "name": "stdout",
     "output_type": "stream",
     "text": [
      "creation_source\n",
      "GUEST_INVITE          0.170596\n",
      "ORG_INVITE            0.134932\n",
      "PERSONAL_PROJECTS     0.081478\n",
      "SIGNUP                0.144705\n",
      "SIGNUP_GOOGLE_AUTH    0.172563\n",
      "Name: adopted, dtype: float64\n",
      "opted_in_to_mailing_list\n",
      "0    0.136243\n",
      "1    0.143287\n",
      "Name: adopted, dtype: float64\n"
     ]
    }
   ],
   "source": [
    "#summary statistics for adoption\n",
    "print(users_df.groupby('creation_source')['adopted'].mean())\n",
    "print(users_df.groupby('opted_in_to_mailing_list')['adopted'].mean())"
   ]
  },
  {
   "cell_type": "markdown",
   "id": "ac4a93da-e28f-4aa2-b047-ab3b18d48e81",
   "metadata": {},
   "source": [
    "### Predictive Modeling"
   ]
  },
  {
   "cell_type": "code",
   "execution_count": 11,
   "id": "d4be168d-6ee2-4801-af2b-339b14ef3a28",
   "metadata": {},
   "outputs": [
    {
     "name": "stdout",
     "output_type": "stream",
     "text": [
      "Accuracy: 86.11%\n",
      "Confusion Matrix:\n",
      " [[3100    0]\n",
      " [ 500    0]]\n"
     ]
    }
   ],
   "source": [
    "#select relevant features and target variable\n",
    "features = ['creation_source', 'opted_in_to_mailing_list', 'enabled_for_marketing_drip']\n",
    "X = pd.get_dummies(users_df[features], drop_first=True)  #one-hot encoding for categorical variables\n",
    "y = users_df['adopted']\n",
    "\n",
    "#split the data\n",
    "X_train, X_test, y_train, y_test = train_test_split(X, y, test_size=0.3, random_state=42)\n",
    "\n",
    "#train a logistic regression model\n",
    "model = LogisticRegression()\n",
    "model.fit(X_train, y_train)\n",
    "\n",
    "#make predictions and evaluate\n",
    "y_pred = model.predict(X_test)\n",
    "accuracy = accuracy_score(y_test, y_pred)\n",
    "print(f\"Accuracy: {accuracy:.2%}\")\n",
    "print(\"Confusion Matrix:\\n\", confusion_matrix(y_test, y_pred))"
   ]
  },
  {
   "cell_type": "markdown",
   "id": "8deb41f4-b753-463f-85cb-28eb63f84713",
   "metadata": {},
   "source": [
    "### Writeup"
   ]
  },
  {
   "cell_type": "markdown",
   "id": "dc2d6494-c08c-4cae-ae84-6679ac061c8f",
   "metadata": {},
   "source": [
    "I explored the relationship between user adoption and various factors such as creation_source and opted_in_to_mailing_list. Users invited via the \"GUEST_INVITE\" and \"SIGNUP_GOOGLE_AUTH\" methods had higher adoption rates (17.06% and 17.26%, respectively). Additionally, users who opted into the mailing list had a slightly higher adoption rate (14.33% vs. 13.62%).\n",
    "\n",
    "A logistic regression model was built to predict user adoption based on the features creation_source, opted_in_to_mailing_list, and enabled_for_marketing_drip. After splitting the data into training and test sets, the model achieved an accuracy of 86.11%. However, the model’s predictions showed a bias toward predicting non-adopted users, as indicated by the confusion matrix (3100 true negatives and 500 false positives).\n",
    "\n",
    "The features related to user sign-up methods and email marketing were predictive of user adoption. Users who signed up via invitations or Google authentication were more likely to adopt the product. Marketing engagement (via email opt-ins) also had a small but noticeable impact on adoption.\n",
    "\n",
    "Further research could focus on other user behaviors, such as time to first login or the number of interactions in the first 30 days, as potential predictors. More advanced models like Random Forest or Gradient Boosting could also be tested to improve predictive performance, particularly for better balancing false positives and negatives."
   ]
  },
  {
   "cell_type": "code",
   "execution_count": 14,
   "id": "04ae2025-d1c4-46bf-8536-b76647496836",
   "metadata": {},
   "outputs": [
    {
     "data": {
      "image/png": "[encoded data removed]",
      "text/plain": [
       "<Figure size 800x500 with 1 Axes>"
      ]
     },
     "metadata": {},
     "output_type": "display_data"
    }
   ],
   "source": [
    "#plot adoption rates by creation source\n",
    "adoption_by_creation_source = users_df.groupby('creation_source')['adopted'].mean()\n",
    "\n",
    "plt.figure(figsize=(8, 5))\n",
    "adoption_by_creation_source.plot(kind='bar', color='blue')\n",
    "plt.title('Adoption Rate by Signup Method (Creation Source)')\n",
    "plt.ylabel('Adoption Rate')\n",
    "plt.xlabel('Signup Method')\n",
    "plt.xticks(rotation=45)\n",
    "plt.show()"
   ]
  },
  {
   "cell_type": "markdown",
   "id": "8b95bdc0-519b-4882-afcf-de2d6c1e174c",
   "metadata": {},
   "source": [
    "This bar chart illustrates the adoption rate for users based on how they signed up for the product. Users who signed up through GUEST_INVITE and SIGNUP_GOOGLE_AUTH had the highest adoption rates (around 17.5%). This suggests that users who are invited or use Google authentication are more likely to engage deeply with the product. On the other hand, users signing up through PERSONAL_PROJECTS have the lowest adoption rate, which may indicate that users who are invited to personal projects are less likely to adopt the product over time."
   ]
  },
  {
   "cell_type": "code",
   "execution_count": 15,
   "id": "b4890d2f-6eca-45f5-9528-42dc44999a17",
   "metadata": {},
   "outputs": [
    {
     "data": {
      "image/png": "[encoded data removed]",
      "text/plain": [
       "<Figure size 600x400 with 1 Axes>"
      ]
     },
     "metadata": {},
     "output_type": "display_data"
    }
   ],
   "source": [
    "#plot adoption rate based on email opt-in\n",
    "adoption_by_email_opt_in = users_df.groupby('opted_in_to_mailing_list')['adopted'].mean()\n",
    "\n",
    "plt.figure(figsize=(6, 4))\n",
    "adoption_by_email_opt_in.plot(kind='bar', color='green')\n",
    "plt.title('Adoption Rate by Opt-in to Mailing List')\n",
    "plt.ylabel('Adoption Rate')\n",
    "plt.xlabel('Opted into Mailing List')\n",
    "plt.xticks([0, 1], ['No', 'Yes'], rotation=0)\n",
    "plt.show()"
   ]
  },
  {
   "cell_type": "markdown",
   "id": "da106be5-bf78-4a64-8418-22f26ef0a584",
   "metadata": {},
   "source": [
    "This bar chart shows the adoption rate based on whether users opted into the marketing mailing list. Users who opted in had a slightly higher adoption rate (14.38%) compared to those who did not opt in (13.62%). Although the difference is small, it suggests that marketing efforts, such as email engagement, could have a modest impact on user adoption."
   ]
  }
 ],
 "metadata": {
  "kernelspec": {
   "display_name": "Python 3 (ipykernel)",
   "language": "python",
   "name": "python3"
  },
  "language_info": {
   "codemirror_mode": {
    "name": "ipython",
    "version": 3
   },
   "file_extension": ".py",
   "mimetype": "text/x-python",
   "name": "python",
   "nbconvert_exporter": "python",
   "pygments_lexer": "ipython3",
   "version": "3.12.1"
  }
 },
 "nbformat": 4,
 "nbformat_minor": 5
}
