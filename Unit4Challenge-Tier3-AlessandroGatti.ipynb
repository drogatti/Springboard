{
 "cells": [
  {
   "cell_type": "markdown",
   "metadata": {
    "colab_type": "text",
    "id": "Tia3MP1SJpgj"
   },
   "source": [
    "# Springboard Data Science Career Track Unit 4 Challenge - Tier 3 Complete\n",
    "\n",
    "## Objectives\n",
    "Hey! Great job getting through those challenging DataCamp courses. You're learning a lot in a short span of time. \n",
    "\n",
    "In this notebook, you're going to apply the skills you've been learning, bridging the gap between the controlled environment of DataCamp and the *slightly* messier work that data scientists do with actual datasets!\n",
    "\n",
    "Here’s the mystery we’re going to solve: ***which boroughs of London have seen the greatest increase in housing prices, on average, over the last two decades?***\n",
    "\n",
    "\n",
    "A borough is just a fancy word for district. You may be familiar with the five boroughs of New York… well, there are 32 boroughs within Greater London [(here's some info for the curious)](https://en.wikipedia.org/wiki/London_boroughs). Some of them are more desirable areas to live in, and the data will reflect that with a greater rise in housing prices.\n",
    "\n",
    "***This is the Tier 3 notebook, which means it's not filled in at all: we'll just give you the skeleton of a project, the brief and the data. It's up to you to play around with it and see what you can find out! Good luck! If you struggle, feel free to look at easier tiers for help; but try to dip in and out of them, as the more independent work you do, the better it is for your learning!***\n",
    "\n",
    "This challenge will make use of only what you learned in the following DataCamp courses: \n",
    "- Prework courses (Introduction to Python for Data Science, Intermediate Python for Data Science)\n",
    "- Data Types for Data Science\n",
    "- Python Data Science Toolbox (Part One) \n",
    "- pandas Foundations\n",
    "- Manipulating DataFrames with pandas\n",
    "- Merging DataFrames with pandas\n",
    "\n",
    "Of the tools, techniques and concepts in the above DataCamp courses, this challenge should require the application of the following: \n",
    "- **pandas**\n",
    "    - **data ingestion and inspection** (pandas Foundations, Module One) \n",
    "    - **exploratory data analysis** (pandas Foundations, Module Two)\n",
    "    - **tidying and cleaning** (Manipulating DataFrames with pandas, Module Three) \n",
    "    - **transforming DataFrames** (Manipulating DataFrames with pandas, Module One)\n",
    "    - **subsetting DataFrames with lists** (Manipulating DataFrames with pandas, Module One) \n",
    "    - **filtering DataFrames** (Manipulating DataFrames with pandas, Module One) \n",
    "    - **grouping data** (Manipulating DataFrames with pandas, Module Four) \n",
    "    - **melting data** (Manipulating DataFrames with pandas, Module Three) \n",
    "    - **advanced indexing** (Manipulating DataFrames with pandas, Module Four) \n",
    "- **matplotlib** (Intermediate Python for Data Science, Module One)\n",
    "- **fundamental data types** (Data Types for Data Science, Module One) \n",
    "- **dictionaries** (Intermediate Python for Data Science, Module Two)\n",
    "- **handling dates and times** (Data Types for Data Science, Module Four)\n",
    "- **function definition** (Python Data Science Toolbox - Part One, Module One)\n",
    "- **default arguments, variable length, and scope** (Python Data Science Toolbox - Part One, Module Two) \n",
    "- **lambda functions and error handling** (Python Data Science Toolbox - Part One, Module Four) "
   ]
  },
  {
   "cell_type": "markdown",
   "metadata": {
    "colab_type": "text",
    "id": "Ipgd2nV8Jpgl"
   },
   "source": [
    "## The Data Science Pipeline\n",
    "\n",
    "This is Tier Three, so we'll get you started. But after that, it's all in your hands! When you feel done with your investigations, look back over what you've accomplished, and prepare a quick presentation of your findings for the next mentor meeting. \n",
    "\n",
    "Data Science is magical. In this case study, you'll get to apply some complex machine learning algorithms. But as  [David Spiegelhalter](https://www.youtube.com/watch?v=oUs1uvsz0Ok) reminds us, there is no substitute for simply **taking a really, really good look at the data.** Sometimes, this is all we need to answer our question.\n",
    "\n",
    "Data Science projects generally adhere to the four stages of Data Science Pipeline:\n",
    "1. Sourcing and loading \n",
    "2. Cleaning, transforming, and visualizing \n",
    "3. Modeling \n",
    "4. Evaluating and concluding \n"
   ]
  },
  {
   "cell_type": "markdown",
   "metadata": {
    "colab_type": "text",
    "id": "zswDqbefJpgm"
   },
   "source": [
    "### 1. Sourcing and Loading \n",
    "\n",
    "Any Data Science project kicks off by importing  ***pandas***. The documentation of this wonderful library can be found [here](https://pandas.pydata.org/). As you've seen, pandas is conveniently connected to the [Numpy](http://www.numpy.org/) and [Matplotlib](https://matplotlib.org/) libraries. \n",
    "\n",
    "***Hint:*** This part of the data science pipeline will test those skills you acquired in the pandas Foundations course, Module One. "
   ]
  },
  {
   "cell_type": "markdown",
   "metadata": {
    "colab_type": "text",
    "id": "aEau5nEvJpgm"
   },
   "source": [
    "#### 1.1. Importing Libraries"
   ]
  },
  {
   "cell_type": "code",
   "execution_count": 1,
   "metadata": {
    "colab": {},
    "colab_type": "code",
    "id": "7Bt_Q_oPJpgn"
   },
   "outputs": [],
   "source": [
    "# Let's import the pandas, numpy libraries as pd, and np respectively. \n",
    "import pandas as pd\n",
    "import numpy as np\n",
    "\n",
    "# Load the pyplot collection of functions from matplotlib, as plt \n",
    "import matplotlib.pyplot as plt"
   ]
  },
  {
   "cell_type": "markdown",
   "metadata": {
    "colab_type": "text",
    "id": "koUrawxsJpgq"
   },
   "source": [
    "#### 1.2.  Loading the data\n",
    "Your data comes from the [London Datastore](https://data.london.gov.uk/): a free, open-source data-sharing portal for London-oriented datasets. "
   ]
  },
  {
   "cell_type": "code",
   "execution_count": 2,
   "metadata": {
    "colab": {},
    "colab_type": "code",
    "id": "AiLiD4v3Jpgr"
   },
   "outputs": [],
   "source": [
    "# First, make a variable called url_LondonHousePrices, and assign it the following link, enclosed in quotation-marks as a string:\n",
    "# https://data.london.gov.uk/download/uk-house-price-index/70ac0766-8902-4eb5-aab5-01951aaed773/UK%20House%20price%20index.xls\n",
    "\n",
    "url_LondonHousePrices = \"https://data.london.gov.uk/download/uk-house-price-index/70ac0766-8902-4eb5-aab5-01951aaed773/UK%20House%20price%20index.xls\"\n",
    "\n",
    "# The dataset we're interested in contains the Average prices of the houses, and is actually on a particular sheet of the Excel file. \n",
    "# As a result, we need to specify the sheet name in the read_excel() method.\n",
    "# Put this data into a variable called properties.  \n",
    "properties = pd.read_excel(url_LondonHousePrices, sheet_name='Average price', index_col= None)"
   ]
  },
  {
   "cell_type": "markdown",
   "metadata": {
    "colab_type": "text",
    "id": "POukEJXgJpgu"
   },
   "source": [
    "### 2. Cleaning, transforming, and visualizing\n",
    "This second stage is arguably the most important part of any Data Science project. The first thing to do is take a proper look at the data. Cleaning forms the majority of this stage, and can be done both before or after Transformation.\n",
    "\n",
    "The end goal of data cleaning is to have tidy data. When data is tidy: \n",
    "\n",
    "1. Each variable has a column.\n",
    "2. Each observation forms a row.\n",
    "\n",
    "Keep the end goal in mind as you move through this process, every step will take you closer. \n",
    "\n",
    "\n",
    "\n",
    "***Hint:*** This part of the data science pipeline should test those skills you acquired in: \n",
    "- Intermediate Python for data science, all modules.\n",
    "- pandas Foundations, all modules. \n",
    "- Manipulating DataFrames with pandas, all modules.\n",
    "- Data Types for Data Science, Module Four.\n",
    "- Python Data Science Toolbox - Part One, all modules"
   ]
  },
  {
   "cell_type": "markdown",
   "metadata": {
    "colab_type": "text",
    "id": "Te0Q548tnzZa"
   },
   "source": [
    "**2.1. Exploring your data** \n",
    "\n",
    "Think about your pandas functions for checking out a dataframe. "
   ]
  },
  {
   "cell_type": "code",
   "execution_count": 3,
   "metadata": {
    "colab": {},
    "colab_type": "code",
    "id": "Rxirxw_qoAJa"
   },
   "outputs": [
    {
     "name": "stdout",
     "output_type": "stream",
     "text": [
      "  Unnamed: 0 City of London Barking & Dagenham       Barnet       Bexley  \\\n",
      "0        NaT      E09000001          E09000002    E09000003    E09000004   \n",
      "1 1995-01-01    91448.98487         50460.2266  93284.51832  64958.09036   \n",
      "2 1995-02-01    82202.77314        51085.77983  93190.16963  64787.92069   \n",
      "3 1995-03-01    79120.70256        51268.96956  92247.52435  64367.49344   \n",
      "4 1995-04-01    77101.20804        53133.50526  90762.87492  64277.66881   \n",
      "\n",
      "         Brent      Bromley       Camden      Croydon       Ealing  ...  \\\n",
      "0    E09000005    E09000006    E09000007    E09000008    E09000009  ...   \n",
      "1  71306.56698  81671.47692  120932.8881  69158.16225  79885.89069  ...   \n",
      "2  72022.26197  81657.55944  119508.8622  68951.09542  80897.06551  ...   \n",
      "3  72015.76274  81449.31143  120282.2131  68712.44341  81379.86288  ...   \n",
      "4  72965.63094  81124.41227   120097.899  68610.04641  82188.90498  ...   \n",
      "\n",
      "    NORTH EAST   NORTH WEST YORKS & THE HUMBER EAST MIDLANDS WEST MIDLANDS  \\\n",
      "0    E12000001    E12000002          E12000003     E12000004     E12000005   \n",
      "1  42076.35411  43958.48001        44803.42878   45544.52227   48527.52339   \n",
      "2  42571.98949  43925.42289        44528.80721   46051.57066   49341.29029   \n",
      "3  42369.72984   44434.8681        45200.46775   45383.82395   49442.17973   \n",
      "4   42095.8436   44267.7796        45614.34341   46124.23045   49455.93299   \n",
      "\n",
      "  EAST OF ENGLAND       LONDON   SOUTH EAST   SOUTH WEST      England  \n",
      "0       E12000006    E12000007    E12000008    E12000009    E92000001  \n",
      "1      56701.5961  74435.76052  64018.87894   54705.1579  53202.77128  \n",
      "2     56593.59475  72777.93709  63715.02399  54356.14843   53096.1549  \n",
      "3     56171.18278  73896.84204  64113.60858  53583.07667   53201.2843  \n",
      "4     56567.89582  74455.28754  64623.22395  54786.01938   53590.8548  \n",
      "\n",
      "[5 rows x 46 columns]\n",
      "<class 'pandas.core.frame.DataFrame'>\n",
      "RangeIndex: 348 entries, 0 to 347\n",
      "Data columns (total 46 columns):\n",
      " #   Column                Non-Null Count  Dtype         \n",
      "---  ------                --------------  -----         \n",
      " 0   Unnamed: 0            347 non-null    datetime64[ns]\n",
      " 1   City of London        348 non-null    object        \n",
      " 2   Barking & Dagenham    348 non-null    object        \n",
      " 3   Barnet                348 non-null    object        \n",
      " 4   Bexley                348 non-null    object        \n",
      " 5   Brent                 348 non-null    object        \n",
      " 6   Bromley               348 non-null    object        \n",
      " 7   Camden                348 non-null    object        \n",
      " 8   Croydon               348 non-null    object        \n",
      " 9   Ealing                348 non-null    object        \n",
      " 10  Enfield               348 non-null    object        \n",
      " 11  Greenwich             348 non-null    object        \n",
      " 12  Hackney               348 non-null    object        \n",
      " 13  Hammersmith & Fulham  348 non-null    object        \n",
      " 14  Haringey              348 non-null    object        \n",
      " 15  Harrow                348 non-null    object        \n",
      " 16  Havering              348 non-null    object        \n",
      " 17  Hillingdon            348 non-null    object        \n",
      " 18  Hounslow              348 non-null    object        \n",
      " 19  Islington             348 non-null    object        \n",
      " 20  Kensington & Chelsea  348 non-null    object        \n",
      " 21  Kingston upon Thames  348 non-null    object        \n",
      " 22  Lambeth               348 non-null    object        \n",
      " 23  Lewisham              348 non-null    object        \n",
      " 24  Merton                348 non-null    object        \n",
      " 25  Newham                348 non-null    object        \n",
      " 26  Redbridge             348 non-null    object        \n",
      " 27  Richmond upon Thames  348 non-null    object        \n",
      " 28  Southwark             348 non-null    object        \n",
      " 29  Sutton                348 non-null    object        \n",
      " 30  Tower Hamlets         348 non-null    object        \n",
      " 31  Waltham Forest        348 non-null    object        \n",
      " 32  Wandsworth            348 non-null    object        \n",
      " 33  Westminster           348 non-null    object        \n",
      " 34  Inner London          348 non-null    object        \n",
      " 35  Outer London          348 non-null    object        \n",
      " 36  NORTH EAST            348 non-null    object        \n",
      " 37  NORTH WEST            348 non-null    object        \n",
      " 38  YORKS & THE HUMBER    348 non-null    object        \n",
      " 39  EAST MIDLANDS         348 non-null    object        \n",
      " 40  WEST MIDLANDS         348 non-null    object        \n",
      " 41  EAST OF ENGLAND       348 non-null    object        \n",
      " 42  LONDON                348 non-null    object        \n",
      " 43  SOUTH EAST            348 non-null    object        \n",
      " 44  SOUTH WEST            348 non-null    object        \n",
      " 45  England               348 non-null    object        \n",
      "dtypes: datetime64[ns](1), object(45)\n",
      "memory usage: 125.2+ KB\n"
     ]
    }
   ],
   "source": [
    "#Dropping the empty columns here out of personal preference\n",
    "properties = properties.drop(properties.columns[[34, 37, 47]], axis=1)\n",
    "print(properties.head())\n",
    "properties.info()"
   ]
  },
  {
   "cell_type": "markdown",
   "metadata": {
    "colab_type": "text",
    "id": "tE9Sqt9-oAta"
   },
   "source": [
    "**2.2. Cleaning the data**\n",
    "\n",
    "You might find you need to transpose your dataframe, check out what its row indexes are, and reset the index. You  also might find you need to assign the values of the first row to your column headings  . (Hint: recall the .columns feature of DataFrames, as well as the iloc[] method).\n",
    "\n",
    "Don't be afraid to use StackOverflow for help  with this."
   ]
  },
  {
   "cell_type": "code",
   "execution_count": 4,
   "metadata": {
    "colab": {},
    "colab_type": "code",
    "id": "cdAu1A3YoH_r"
   },
   "outputs": [
    {
     "name": "stderr",
     "output_type": "stream",
     "text": [
      "C:\\Users\\aless\\AppData\\Local\\Programs\\Python\\Python312\\Lib\\site-packages\\pandas\\core\\indexes\\base.py:7630: FutureWarning: Dtype inference on a pandas object (Series, Index, ExtensionArray) is deprecated. The Index constructor will keep the original dtype in the future. Call `infer_objects` on the result to get the old behavior.\n",
      "  return Index(index_like, name=name, copy=copy)\n"
     ]
    }
   ],
   "source": [
    "#Dropping the non-London Borough columns here out of personal preference\n",
    "properties = properties.drop(properties.columns[[1, 34, 35, 36, 37, 38, 39, 40, 41, 42, 43, 44, 45]], axis=1)\n",
    "properties.rename(columns={properties.columns[0]: ''}, inplace=True)\n",
    "properties = properties.reset_index(drop=True).T\n",
    "properties.columns = properties.iloc[0]\n",
    "properties = properties.drop('')\n",
    "properties.reset_index(inplace=True)\n",
    "properties.columns = properties.columns[:2].tolist() + [pd.to_datetime(col).date() for col in properties.columns[2:]]"
   ]
  },
  {
   "cell_type": "markdown",
   "metadata": {
    "colab_type": "text",
    "id": "o1uLbJAsoIjK"
   },
   "source": [
    "**2.3. Cleaning the data (part 2)**\n",
    "\n",
    "You might we have to **rename** a couple columns. How do you do this? The clue's pretty bold..."
   ]
  },
  {
   "cell_type": "code",
   "execution_count": 5,
   "metadata": {
    "colab": {},
    "colab_type": "code",
    "id": "GKkmn1AnoVZS"
   },
   "outputs": [],
   "source": [
    "properties.rename(columns={'index':'London_Borough', pd.NaT:'ID'}, inplace=True)"
   ]
  },
  {
   "cell_type": "markdown",
   "metadata": {
    "colab_type": "text",
    "id": "jy8BzXHmoWEw"
   },
   "source": [
    "**2.4.Transforming the data**\n",
    "\n",
    "Remember what Wes McKinney said about tidy data? \n",
    "\n",
    "You might need to **melt** your DataFrame here. "
   ]
  },
  {
   "cell_type": "code",
   "execution_count": 6,
   "metadata": {
    "colab": {},
    "colab_type": "code",
    "id": "S2wM0qLuo2Zt"
   },
   "outputs": [],
   "source": [
    "properties = properties.melt(id_vars=['London_Borough', 'ID'], var_name='Month', value_name='Average_Price')"
   ]
  },
  {
   "cell_type": "markdown",
   "metadata": {
    "colab_type": "text",
    "id": "7kIsgAo7o3mf"
   },
   "source": [
    "Remember to make sure your column data types are all correct. Average prices, for example, should be floating point numbers... "
   ]
  },
  {
   "cell_type": "code",
   "execution_count": 7,
   "metadata": {
    "colab": {},
    "colab_type": "code",
    "id": "ZcR4IHbcpOaq"
   },
   "outputs": [
    {
     "data": {
      "text/plain": [
       "London_Borough            object\n",
       "ID                        object\n",
       "Month             datetime64[ns]\n",
       "Average_Price            float64\n",
       "dtype: object"
      ]
     },
     "execution_count": 7,
     "metadata": {},
     "output_type": "execute_result"
    }
   ],
   "source": [
    "properties['Month'] = pd.to_datetime(properties['Month'])\n",
    "properties['Average_Price'] = properties['Average_Price'].astype(float)\n",
    "properties.dtypes"
   ]
  },
  {
   "cell_type": "markdown",
   "metadata": {
    "colab_type": "text",
    "id": "knLUXHLypOtw"
   },
   "source": [
    "**2.5. Cleaning the data (part 3)**\n",
    "\n",
    "Do we have an equal number of observations in the ID, Average Price, Month, and London Borough columns? Remember that there are only 32 London Boroughs. How many entries do you have in that column? \n",
    "\n",
    "Check out the contents of the London Borough column, and if you find null values, get rid of them however you see fit. "
   ]
  },
  {
   "cell_type": "code",
   "execution_count": 8,
   "metadata": {
    "colab": {},
    "colab_type": "code",
    "id": "BnvTW5a3p0fC"
   },
   "outputs": [
    {
     "name": "stdout",
     "output_type": "stream",
     "text": [
      "There are an equal number of observations in the ID, Average Price, Month, and London Borough columns.\n"
     ]
    }
   ],
   "source": [
    "counted_ID = properties['ID'].count()\n",
    "counted_avgprice = properties['Average_Price'].count()\n",
    "counted_month = properties['Month'].count()\n",
    "counted_boroughs = properties['London_Borough'].count()\n",
    "count_list = [counted_ID, counted_avgprice, counted_month, counted_boroughs]\n",
    "if all(count == count_list[0] for count in count_list) :\n",
    "    print(\"There are an equal number of observations in the ID, Average Price, Month, and London Borough columns.\")\n",
    "else :\n",
    "    print(\"There are NOT an equal number of observations in the ID, Average Price, Month, and London Borough columns.\")"
   ]
  },
  {
   "cell_type": "markdown",
   "metadata": {
    "colab_type": "text",
    "id": "PGEx6mJsp6dG"
   },
   "source": [
    "**2.6. Visualizing the data**\n",
    "\n",
    "To visualize the data, why not subset on a particular London Borough? Maybe do a line plot of Month against Average Price?"
   ]
  },
  {
   "cell_type": "code",
   "execution_count": 9,
   "metadata": {
    "colab": {},
    "colab_type": "code",
    "id": "nAg5pT9cqHAR"
   },
   "outputs": [
    {
     "data": {
      "text/plain": [
       "<Axes: title={'center': 'Average Westminster Housing Prices Over ~Two Decades'}, xlabel='Month', ylabel='Average Price (in millions of USD)'>"
      ]
     },
     "execution_count": 9,
     "metadata": {},
     "output_type": "execute_result"
    },
    {
     "data": {
      "image/png": "[encoded data removed]",
      "text/plain": [
       "<Figure size 640x480 with 1 Axes>"
      ]
     },
     "metadata": {},
     "output_type": "display_data"
    }
   ],
   "source": [
    "westminster = properties.loc[properties['London_Borough'] == 'Westminster']\n",
    "westminster.plot(kind='line', x='Month', y='Average_Price', legend=False, ylabel='Average Price (in millions of USD)', \n",
    "                title='Average Westminster Housing Prices Over ~Two Decades')"
   ]
  },
  {
   "cell_type": "markdown",
   "metadata": {
    "colab_type": "text",
    "id": "aWTPqSJeqHnC"
   },
   "source": [
    "To limit the number of data points you have, you might want to extract the year from every month value your *Month* column. \n",
    "\n",
    "To this end, you *could* apply a ***lambda function***. Your logic could work as follows:\n",
    "1. look through the `Month` column\n",
    "2. extract the year from each individual value in that column \n",
    "3. store that corresponding year as separate column. \n",
    "\n",
    "Whether you go ahead with this is up to you. Just so long as you answer our initial brief: which boroughs of London have seen the greatest house price increase, on average, over the past two decades? "
   ]
  },
  {
   "cell_type": "code",
   "execution_count": 10,
   "metadata": {
    "colab": {},
    "colab_type": "code",
    "id": "e0DF92cyqnu8"
   },
   "outputs": [
    {
     "name": "stdout",
     "output_type": "stream",
     "text": [
      "           London_Borough         ID      Month  Average_Price  Year\n",
      "0      Barking & Dagenham  E09000002 1995-01-01    50460.22660  1995\n",
      "1                  Barnet  E09000003 1995-01-01    93284.51832  1995\n",
      "2                  Bexley  E09000004 1995-01-01    64958.09036  1995\n",
      "3                   Brent  E09000005 1995-01-01    71306.56698  1995\n",
      "4                 Bromley  E09000006 1995-01-01    81671.47692  1995\n",
      "...                   ...        ...        ...            ...   ...\n",
      "11099              Sutton  E09000029 2023-11-01   423148.00000  2023\n",
      "11100       Tower Hamlets  E09000030 2023-11-01   438709.00000  2023\n",
      "11101      Waltham Forest  E09000031 2023-11-01   502114.00000  2023\n",
      "11102          Wandsworth  E09000032 2023-11-01   625786.00000  2023\n",
      "11103         Westminster  E09000033 2023-11-01   870963.00000  2023\n",
      "\n",
      "[11104 rows x 5 columns]\n"
     ]
    }
   ],
   "source": [
    "#Did not use lambda function to do this\n",
    "properties['Year'] = properties['Month'].dt.year\n",
    "print(properties)"
   ]
  },
  {
   "cell_type": "markdown",
   "metadata": {
    "colab_type": "text",
    "id": "2knuTxAEqoJ4"
   },
   "source": [
    "**3. Modeling**\n",
    "\n",
    "Consider creating a function that will calculate a ratio of house prices, comparing the price of a house in 2018 to the price in 1998.\n",
    "\n",
    "Consider calling this function create_price_ratio.\n",
    "\n",
    "You'd want this function to:\n",
    "1. Take a filter of dfg, specifically where this filter constrains the London_Borough, as an argument. For example, one admissible argument should be: dfg[dfg['London_Borough']=='Camden'].\n",
    "2. Get the Average Price for that Borough, for the years 1998 and 2018.\n",
    "4. Calculate the ratio of the Average Price for 1998 divided by the Average Price for 2018.\n",
    "5. Return that ratio.\n",
    "\n",
    "Once you've written this function, you ultimately want to use it to iterate through all the unique London_Boroughs and work out the ratio capturing the difference of house prices between 1998 and 2018.\n",
    "\n",
    "Bear in mind: you don't have to write a function like this if you don't want to. If you can solve the brief otherwise, then great! \n",
    "\n",
    "***Hint***: This section should test the skills you acquired in:\n",
    "- Python Data Science Toolbox - Part One, all modules"
   ]
  },
  {
   "cell_type": "code",
   "execution_count": 11,
   "metadata": {
    "colab": {},
    "colab_type": "code",
    "id": "cKTyr437UgDa"
   },
   "outputs": [
    {
     "name": "stdout",
     "output_type": "stream",
     "text": [
      "Average Increase in Housing Prices 1998-2018 by London Borough: {'Hackney': '619.829%', 'Waltham Forest': '583.476%', 'Southwark': '551.649%', 'Lewisham': '544.922%', 'Westminster': '535.357%', 'Newham': '530.539%', 'Haringey': '513.462%', 'Kensington & Chelsea': '508.247%', 'Lambeth': '495.775%', 'Camden': '493.535%', 'Barking & Dagenham': '489.662%', 'Brent': '489.455%', 'Islington': '484.405%', 'Greenwich': '476.304%', 'Wandsworth': '475.771%', 'Merton': '474.127%', 'Tower Hamlets': '462.67%', 'Redbridge': '447.118%', 'Barnet': '435.82%', 'Havering': '432.523%', 'Ealing': '431.145%', 'Kingston upon Thames': '427.055%', 'Enfield': '426.347%', 'Bexley': '424.898%', 'Croydon': '420.11%', 'Hillingdon': '420.027%', 'Hammersmith & Fulham': '413.78%', 'Sutton': '411.852%', 'Bromley': '409.478%', 'Harrow': '405.92%', 'Richmond upon Thames': '400.516%', 'Hounslow': '397.641%'}\n"
     ]
    }
   ],
   "source": [
    "#Rather than calculating the ratio for 1998/2018, I calculated the percentage change dividing the average prices in 2018 by 1998\n",
    "def create_price_ratio(borough) :\n",
    "    borough_1998 = properties.loc[(properties['London_Borough'] == borough) & (properties['Year'] == 1998)]\n",
    "    borough_2018 = properties.loc[(properties['London_Borough'] == borough) & (properties['Year'] == 2018)]\n",
    "    avg_price_1998 = borough_1998['Average_Price'].mean()\n",
    "    avg_price_2018 = borough_2018['Average_Price'].mean()\n",
    "    ratio = (avg_price_2018 / avg_price_1998) * 100\n",
    "    ratio = round(ratio, 3)\n",
    "    return ratio\n",
    "ratios_ranked = {}\n",
    "for borough in properties['London_Borough'][:32] :\n",
    "    add_ratio = create_price_ratio(borough)\n",
    "    ratios_ranked[f'{borough}'] = f\"{add_ratio}%\"\n",
    "ratios_ranked = dict(sorted(ratios_ranked.items(), key=lambda item: item[1], reverse=True))\n",
    "print(f\"Average Increase in Housing Prices 1998-2018 by London Borough: {ratios_ranked}\")"
   ]
  },
  {
   "cell_type": "markdown",
   "metadata": {
    "colab_type": "text",
    "id": "NzYUI7FxJpgv"
   },
   "source": [
    "### 4. Conclusion\n",
    "What can you conclude? Type out your conclusion below. \n",
    "\n",
    "Look back at your notebook. Think about how you might summarize what you have done, and prepare a quick presentation on it to your mentor at your next meeting. \n",
    "\n",
    "We hope you enjoyed this practical project. It should have consolidated your data hygiene and pandas skills by looking at a real-world problem involving just the kind of dataset you might encounter as a budding data scientist. Congratulations, and looking forward to seeing you at the next step in the course! "
   ]
  },
  {
   "cell_type": "markdown",
   "metadata": {},
   "source": [
    "Looking at the printed ratios_ranked dictionary above, it is conclusive that the London Borough that saw the greatest average increase in housing prices from 1998 to 2018 is ***Hackney***. This was made clear from the modelling portion of this notebook that divided the average housing prices in each borough in 2018 by the average prices in 1998. This calculated the ratios which were multiplied by 100 to and rounded to 3 decimal places to represent a percentage. This allows for viewing the period return in percentage form to easily understand by how much the prices increased from the initial year. Sorting this dictionary from the largest to smallest values puts ***Hackney*** as the first element in the final dictionary, establishing the borough as the one that has seen the greatest average increase in housing prices over those two decades with the average 2018 housing price increasing by ***~619.829%*** until 2018."
   ]
  }
 ],
 "metadata": {
  "colab": {
   "collapsed_sections": [],
   "name": "Springboard Data Science Career Track Unit 4 Challenge - Tier 3 Complete .ipynb",
   "provenance": []
  },
  "kernelspec": {
   "display_name": "Python 3 (ipykernel)",
   "language": "python",
   "name": "python3"
  },
  "language_info": {
   "codemirror_mode": {
    "name": "ipython",
    "version": 3
   },
   "file_extension": ".py",
   "mimetype": "text/x-python",
   "name": "python",
   "nbconvert_exporter": "python",
   "pygments_lexer": "ipython3",
   "version": "3.12.1"
  }
 },
 "nbformat": 4,
 "nbformat_minor": 4
}
